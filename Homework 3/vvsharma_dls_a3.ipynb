{
  "nbformat": 4,
  "nbformat_minor": 0,
  "metadata": {
    "colab": {
      "provenance": [],
      "machine_shape": "hm",
      "gpuType": "V100",
      "collapsed_sections": [
        "E5Y4bgLbAfwq",
        "HU61FfDcAtF-",
        "DsPhxhx7qow7",
        "ohaLuebHyv_a"
      ]
    },
    "kernelspec": {
      "name": "python3",
      "display_name": "Python 3"
    },
    "language_info": {
      "name": "python"
    },
    "accelerator": "GPU"
  },
  "cells": [
    {
      "cell_type": "markdown",
      "source": [
        "#part 1\n"
      ],
      "metadata": {
        "id": "E5Y4bgLbAfwq"
      }
    },
    {
      "cell_type": "code",
      "execution_count": null,
      "metadata": {
        "id": "woAQ0L8kDj3F"
      },
      "outputs": [],
      "source": [
        "import numpy as np\n",
        "import matplotlib.pyplot as plt\n",
        "import pandas as pd\n",
        "import tensorflow as tf\n",
        "from tensorflow.keras.datasets import mnist"
      ]
    },
    {
      "cell_type": "code",
      "source": [
        "(train_images, train_labels), (test_images, test_labels) = mnist.load_data()"
      ],
      "metadata": {
        "id": "NxRzgYmny1Pt",
        "colab": {
          "base_uri": "https://localhost:8080/"
        },
        "outputId": "67d85dbc-fb80-444a-bb8c-4f9442007e28"
      },
      "execution_count": null,
      "outputs": [
        {
          "output_type": "stream",
          "name": "stdout",
          "text": [
            "Downloading data from https://storage.googleapis.com/tensorflow/tf-keras-datasets/mnist.npz\n",
            "11490434/11490434 [==============================] - 1s 0us/step\n"
          ]
        }
      ]
    },
    {
      "cell_type": "code",
      "source": [
        "train_images, test_images = train_images / 255.0, test_images / 255.0"
      ],
      "metadata": {
        "id": "96uiB76BzBi5"
      },
      "execution_count": null,
      "outputs": []
    },
    {
      "cell_type": "code",
      "source": [
        "train_images_1d = train_images.reshape(train_images.shape[0], -1)\n",
        "test_images_1d = test_images.reshape(test_images.shape[0], -1)"
      ],
      "metadata": {
        "id": "Lbxqp_M4LxCe"
      },
      "execution_count": null,
      "outputs": []
    },
    {
      "cell_type": "code",
      "source": [
        "train_images.shape"
      ],
      "metadata": {
        "colab": {
          "base_uri": "https://localhost:8080/"
        },
        "id": "YBngFSRsMSr5",
        "outputId": "a2cf0580-42c1-43f7-a9a7-a1c897cdd12f"
      },
      "execution_count": null,
      "outputs": [
        {
          "output_type": "execute_result",
          "data": {
            "text/plain": [
              "(60000, 28, 28)"
            ]
          },
          "metadata": {},
          "execution_count": 5
        }
      ]
    },
    {
      "cell_type": "code",
      "source": [
        "train_images_1d.shape, test_images_1d.shape, train_labels.shape, test_labels.shape"
      ],
      "metadata": {
        "colab": {
          "base_uri": "https://localhost:8080/"
        },
        "id": "DzgkREa_Lw__",
        "outputId": "fd3e0738-a80e-407e-9c8f-353e76425943"
      },
      "execution_count": null,
      "outputs": [
        {
          "output_type": "execute_result",
          "data": {
            "text/plain": [
              "((60000, 784), (10000, 784), (60000,), (10000,))"
            ]
          },
          "metadata": {},
          "execution_count": 6
        }
      ]
    },
    {
      "cell_type": "code",
      "source": [
        "def custom_initializer(shape, dtype=None):\n",
        "  initial_weights = tf.keras.initializers.HeNormal()(shape, dtype=dtype)\n",
        "  return initial_weights"
      ],
      "metadata": {
        "id": "w-hbMbTpFiOZ"
      },
      "execution_count": null,
      "outputs": []
    },
    {
      "cell_type": "code",
      "source": [
        "model_baseline_p1 = tf.keras.Sequential([\n",
        "    tf.keras.layers.Input(shape=(784)),\n",
        "    tf.keras.layers.Dense(1024,activation='relu', kernel_initializer=custom_initializer),\n",
        "    tf.keras.layers.Dense(1024,activation='relu', kernel_initializer=custom_initializer),\n",
        "    tf.keras.layers.Dense(1024,activation='relu', kernel_initializer=custom_initializer),\n",
        "    tf.keras.layers.Dense(1024,activation='relu', kernel_initializer=custom_initializer),\n",
        "    tf.keras.layers.Dense(1024,activation='relu', kernel_initializer=custom_initializer),\n",
        "    tf.keras.layers.Dense(10,activation='softmax')\n",
        "  ])"
      ],
      "metadata": {
        "id": "VzgfNAvYFx-8"
      },
      "execution_count": null,
      "outputs": []
    },
    {
      "cell_type": "code",
      "source": [
        "loss_fn = tf.keras.losses.SparseCategoricalCrossentropy(from_logits=True)\n",
        "optimizer_fn = tf.keras.optimizers.Adam(learning_rate=0.001)\n"
      ],
      "metadata": {
        "id": "KPfqUXJ9E2IL"
      },
      "execution_count": null,
      "outputs": []
    },
    {
      "cell_type": "code",
      "source": [
        "model_baseline_p1.compile(optimizer=optimizer_fn, loss=loss_fn, metrics=['accuracy'])"
      ],
      "metadata": {
        "id": "Pb1wHffAGZkc"
      },
      "execution_count": null,
      "outputs": []
    },
    {
      "cell_type": "code",
      "source": [
        "epochs = 50\n",
        "history_baseline_p1 = model_baseline_p1.fit(train_images_1d, train_labels, epochs=epochs,batch_size = 256)"
      ],
      "metadata": {
        "colab": {
          "base_uri": "https://localhost:8080/"
        },
        "id": "e7VsUzVYGdD3",
        "outputId": "cb8af981-f5bf-4eaa-d5fe-5bd51dd7f2b0"
      },
      "execution_count": null,
      "outputs": [
        {
          "output_type": "stream",
          "name": "stdout",
          "text": [
            "Epoch 1/50\n"
          ]
        },
        {
          "output_type": "stream",
          "name": "stderr",
          "text": [
            "/usr/local/lib/python3.10/dist-packages/keras/src/backend.py:5729: UserWarning: \"`sparse_categorical_crossentropy` received `from_logits=True`, but the `output` argument was produced by a Softmax activation and thus does not represent logits. Was this intended?\n",
            "  output, from_logits = _get_logits(\n"
          ]
        },
        {
          "output_type": "stream",
          "name": "stdout",
          "text": [
            "235/235 [==============================] - 6s 4ms/step - loss: 0.2448 - accuracy: 0.9237\n",
            "Epoch 2/50\n",
            "235/235 [==============================] - 1s 4ms/step - loss: 0.0838 - accuracy: 0.9748\n",
            "Epoch 3/50\n",
            "235/235 [==============================] - 1s 4ms/step - loss: 0.0567 - accuracy: 0.9825\n",
            "Epoch 4/50\n",
            "235/235 [==============================] - 1s 4ms/step - loss: 0.0417 - accuracy: 0.9869\n",
            "Epoch 5/50\n",
            "235/235 [==============================] - 1s 4ms/step - loss: 0.0348 - accuracy: 0.9892\n",
            "Epoch 6/50\n",
            "235/235 [==============================] - 1s 4ms/step - loss: 0.0273 - accuracy: 0.9915\n",
            "Epoch 7/50\n",
            "235/235 [==============================] - 1s 4ms/step - loss: 0.0314 - accuracy: 0.9911\n",
            "Epoch 8/50\n",
            "235/235 [==============================] - 1s 4ms/step - loss: 0.0250 - accuracy: 0.9924\n",
            "Epoch 9/50\n",
            "235/235 [==============================] - 1s 4ms/step - loss: 0.0201 - accuracy: 0.9941\n",
            "Epoch 10/50\n",
            "235/235 [==============================] - 1s 4ms/step - loss: 0.0192 - accuracy: 0.9941\n",
            "Epoch 11/50\n",
            "235/235 [==============================] - 1s 4ms/step - loss: 0.0222 - accuracy: 0.9934\n",
            "Epoch 12/50\n",
            "235/235 [==============================] - 1s 4ms/step - loss: 0.0197 - accuracy: 0.9946\n",
            "Epoch 13/50\n",
            "235/235 [==============================] - 1s 4ms/step - loss: 0.0149 - accuracy: 0.9956\n",
            "Epoch 14/50\n",
            "235/235 [==============================] - 1s 4ms/step - loss: 0.0175 - accuracy: 0.9949\n",
            "Epoch 15/50\n",
            "235/235 [==============================] - 1s 4ms/step - loss: 0.0163 - accuracy: 0.9954\n",
            "Epoch 16/50\n",
            "235/235 [==============================] - 1s 4ms/step - loss: 0.0105 - accuracy: 0.9969\n",
            "Epoch 17/50\n",
            "235/235 [==============================] - 1s 4ms/step - loss: 0.0132 - accuracy: 0.9961\n",
            "Epoch 18/50\n",
            "235/235 [==============================] - 1s 4ms/step - loss: 0.0144 - accuracy: 0.9961\n",
            "Epoch 19/50\n",
            "235/235 [==============================] - 1s 4ms/step - loss: 0.0103 - accuracy: 0.9970\n",
            "Epoch 20/50\n",
            "235/235 [==============================] - 1s 4ms/step - loss: 0.0156 - accuracy: 0.9959\n",
            "Epoch 21/50\n",
            "235/235 [==============================] - 1s 4ms/step - loss: 0.0183 - accuracy: 0.9952\n",
            "Epoch 22/50\n",
            "235/235 [==============================] - 1s 4ms/step - loss: 0.0115 - accuracy: 0.9969\n",
            "Epoch 23/50\n",
            "235/235 [==============================] - 1s 4ms/step - loss: 0.0111 - accuracy: 0.9972\n",
            "Epoch 24/50\n",
            "235/235 [==============================] - 1s 4ms/step - loss: 0.0097 - accuracy: 0.9977\n",
            "Epoch 25/50\n",
            "235/235 [==============================] - 1s 4ms/step - loss: 0.0103 - accuracy: 0.9974\n",
            "Epoch 26/50\n",
            "235/235 [==============================] - 1s 4ms/step - loss: 0.0092 - accuracy: 0.9979\n",
            "Epoch 27/50\n",
            "235/235 [==============================] - 1s 4ms/step - loss: 0.0143 - accuracy: 0.9966\n",
            "Epoch 28/50\n",
            "235/235 [==============================] - 1s 4ms/step - loss: 0.0091 - accuracy: 0.9976\n",
            "Epoch 29/50\n",
            "235/235 [==============================] - 1s 4ms/step - loss: 0.0110 - accuracy: 0.9978\n",
            "Epoch 30/50\n",
            "235/235 [==============================] - 1s 4ms/step - loss: 0.0129 - accuracy: 0.9968\n",
            "Epoch 31/50\n",
            "235/235 [==============================] - 1s 4ms/step - loss: 0.0103 - accuracy: 0.9977\n",
            "Epoch 32/50\n",
            "235/235 [==============================] - 1s 4ms/step - loss: 0.0099 - accuracy: 0.9977\n",
            "Epoch 33/50\n",
            "235/235 [==============================] - 1s 4ms/step - loss: 0.0104 - accuracy: 0.9977\n",
            "Epoch 34/50\n",
            "235/235 [==============================] - 1s 4ms/step - loss: 0.0103 - accuracy: 0.9977\n",
            "Epoch 35/50\n",
            "235/235 [==============================] - 1s 4ms/step - loss: 0.0092 - accuracy: 0.9979\n",
            "Epoch 36/50\n",
            "235/235 [==============================] - 1s 4ms/step - loss: 0.0057 - accuracy: 0.9985\n",
            "Epoch 37/50\n",
            "235/235 [==============================] - 1s 4ms/step - loss: 0.0077 - accuracy: 0.9982\n",
            "Epoch 38/50\n",
            "235/235 [==============================] - 1s 4ms/step - loss: 0.0103 - accuracy: 0.9983\n",
            "Epoch 39/50\n",
            "235/235 [==============================] - 1s 4ms/step - loss: 0.0071 - accuracy: 0.9984\n",
            "Epoch 40/50\n",
            "235/235 [==============================] - 1s 3ms/step - loss: 0.0065 - accuracy: 0.9984\n",
            "Epoch 41/50\n",
            "235/235 [==============================] - 1s 4ms/step - loss: 0.0070 - accuracy: 0.9985\n",
            "Epoch 42/50\n",
            "235/235 [==============================] - 1s 3ms/step - loss: 0.0084 - accuracy: 0.9979\n",
            "Epoch 43/50\n",
            "235/235 [==============================] - 1s 4ms/step - loss: 0.0097 - accuracy: 0.9978\n",
            "Epoch 44/50\n",
            "235/235 [==============================] - 1s 4ms/step - loss: 0.0067 - accuracy: 0.9988\n",
            "Epoch 45/50\n",
            "235/235 [==============================] - 1s 4ms/step - loss: 0.0032 - accuracy: 0.9993\n",
            "Epoch 46/50\n",
            "235/235 [==============================] - 1s 4ms/step - loss: 0.0066 - accuracy: 0.9983\n",
            "Epoch 47/50\n",
            "235/235 [==============================] - 1s 4ms/step - loss: 0.0124 - accuracy: 0.9973\n",
            "Epoch 48/50\n",
            "235/235 [==============================] - 1s 4ms/step - loss: 0.0085 - accuracy: 0.9980\n",
            "Epoch 49/50\n",
            "235/235 [==============================] - 1s 4ms/step - loss: 0.0100 - accuracy: 0.9982\n",
            "Epoch 50/50\n",
            "235/235 [==============================] - 1s 4ms/step - loss: 0.0052 - accuracy: 0.9990\n"
          ]
        }
      ]
    },
    {
      "cell_type": "code",
      "source": [
        "model_baseline_p1.evaluate(test_images_1d, test_labels, batch_size=256)\n"
      ],
      "metadata": {
        "colab": {
          "base_uri": "https://localhost:8080/"
        },
        "id": "RecFRd9LG2No",
        "outputId": "22a00343-2f48-44c4-9844-bc1987c46a6b"
      },
      "execution_count": null,
      "outputs": [
        {
          "output_type": "stream",
          "name": "stdout",
          "text": [
            "40/40 [==============================] - 0s 3ms/step - loss: 0.1262 - accuracy: 0.9846\n"
          ]
        },
        {
          "output_type": "execute_result",
          "data": {
            "text/plain": [
              "[0.1262107640504837, 0.9846000075340271]"
            ]
          },
          "metadata": {},
          "execution_count": 12
        }
      ]
    },
    {
      "cell_type": "code",
      "source": [
        "len(model_baseline_p1.get_weights())"
      ],
      "metadata": {
        "colab": {
          "base_uri": "https://localhost:8080/"
        },
        "id": "DX9caNxoHbK6",
        "outputId": "ba02cf61-3a93-4d74-8657-17c385185e93"
      },
      "execution_count": null,
      "outputs": [
        {
          "output_type": "execute_result",
          "data": {
            "text/plain": [
              "12"
            ]
          },
          "metadata": {},
          "execution_count": 13
        }
      ]
    },
    {
      "cell_type": "code",
      "source": [
        "model_baseline_p1.save_weights('model_baseline_p1_weights.h5')"
      ],
      "metadata": {
        "id": "9Uv-J3JCIhE5"
      },
      "execution_count": null,
      "outputs": []
    },
    {
      "cell_type": "code",
      "source": [
        "model_baseline_p1.load_weights('/content/model_baseline_p1_weights.h5')"
      ],
      "metadata": {
        "id": "oZ4xwSmZJwQr"
      },
      "execution_count": null,
      "outputs": []
    },
    {
      "cell_type": "code",
      "source": [
        "z=0\n",
        "for layer in model_baseline_p1.layers:\n",
        "    weights = layer.get_weights()\n",
        "\n",
        "    if weights:\n",
        "        for i, w in enumerate(weights):\n",
        "            print(z)\n",
        "            z=z+1\n",
        "            print(f\"Shape of weights {i} for layer {model_baseline_p1.layers.index(layer)}: {w.shape}\")\n",
        "    else:\n",
        "        print(f\"No weights for layer {model_baseline_p1.layers.index(layer)}\")\n",
        "\n"
      ],
      "metadata": {
        "colab": {
          "base_uri": "https://localhost:8080/"
        },
        "id": "jV8gaXiDHh5F",
        "outputId": "7ebbe256-25d6-4bcf-e3d3-2a693be34006"
      },
      "execution_count": null,
      "outputs": [
        {
          "output_type": "stream",
          "name": "stdout",
          "text": [
            "0\n",
            "Shape of weights 0 for layer 0: (784, 1024)\n",
            "1\n",
            "Shape of weights 1 for layer 0: (1024,)\n",
            "2\n",
            "Shape of weights 0 for layer 1: (1024, 1024)\n",
            "3\n",
            "Shape of weights 1 for layer 1: (1024,)\n",
            "4\n",
            "Shape of weights 0 for layer 2: (1024, 1024)\n",
            "5\n",
            "Shape of weights 1 for layer 2: (1024,)\n",
            "6\n",
            "Shape of weights 0 for layer 3: (1024, 1024)\n",
            "7\n",
            "Shape of weights 1 for layer 3: (1024,)\n",
            "8\n",
            "Shape of weights 0 for layer 4: (1024, 1024)\n",
            "9\n",
            "Shape of weights 1 for layer 4: (1024,)\n",
            "10\n",
            "Shape of weights 0 for layer 5: (1024, 10)\n",
            "11\n",
            "Shape of weights 1 for layer 5: (10,)\n"
          ]
        }
      ]
    },
    {
      "cell_type": "code",
      "source": [
        "model_baseline_p1_weights = model_baseline_p1.get_weights()\n",
        "len(model_baseline_p1_weights)"
      ],
      "metadata": {
        "colab": {
          "base_uri": "https://localhost:8080/"
        },
        "id": "Ig3kF2mFH6vl",
        "outputId": "5d15a5b0-2966-4e7e-fa51-2a5da006f8d0"
      },
      "execution_count": null,
      "outputs": [
        {
          "output_type": "execute_result",
          "data": {
            "text/plain": [
              "12"
            ]
          },
          "metadata": {},
          "execution_count": 17
        }
      ]
    },
    {
      "cell_type": "code",
      "source": [
        "for i in range(len(model_baseline_p1_weights)):\n",
        "    print(f\"Weights of layer {i+1}: {model_baseline_p1_weights[i].shape}\")\n"
      ],
      "metadata": {
        "colab": {
          "base_uri": "https://localhost:8080/"
        },
        "id": "_xbke1-JIbpH",
        "outputId": "a10697b5-c290-458f-b73a-c66ed90acb47"
      },
      "execution_count": null,
      "outputs": [
        {
          "output_type": "stream",
          "name": "stdout",
          "text": [
            "Weights of layer 1: (784, 1024)\n",
            "Weights of layer 2: (1024,)\n",
            "Weights of layer 3: (1024, 1024)\n",
            "Weights of layer 4: (1024,)\n",
            "Weights of layer 5: (1024, 1024)\n",
            "Weights of layer 6: (1024,)\n",
            "Weights of layer 7: (1024, 1024)\n",
            "Weights of layer 8: (1024,)\n",
            "Weights of layer 9: (1024, 1024)\n",
            "Weights of layer 10: (1024,)\n",
            "Weights of layer 11: (1024, 10)\n",
            "Weights of layer 12: (10,)\n"
          ]
        }
      ]
    },
    {
      "cell_type": "code",
      "source": [
        "for i in range(0,len(model_baseline_p1_weights),2):\n",
        "    print(i)\n",
        "    print(f\"Weights of layer {i}: {model_baseline_p1_weights[i].shape}\")\n",
        "\n"
      ],
      "metadata": {
        "colab": {
          "base_uri": "https://localhost:8080/"
        },
        "id": "uyRXlNdOK_7f",
        "outputId": "3478e875-bd8a-4eb8-f8dd-b968495b4ac7"
      },
      "execution_count": null,
      "outputs": [
        {
          "output_type": "stream",
          "name": "stdout",
          "text": [
            "0\n",
            "Weights of layer 0: (784, 1024)\n",
            "2\n",
            "Weights of layer 2: (1024, 1024)\n",
            "4\n",
            "Weights of layer 4: (1024, 1024)\n",
            "6\n",
            "Weights of layer 6: (1024, 1024)\n",
            "8\n",
            "Weights of layer 8: (1024, 1024)\n",
            "10\n",
            "Weights of layer 10: (1024, 10)\n"
          ]
        }
      ]
    },
    {
      "cell_type": "code",
      "source": [
        "len(model_baseline_p1_weights)"
      ],
      "metadata": {
        "colab": {
          "base_uri": "https://localhost:8080/"
        },
        "id": "-aJKL0mhLdzD",
        "outputId": "ce81d2d9-4d71-45fc-d90c-1f80c18bbf9d"
      },
      "execution_count": null,
      "outputs": [
        {
          "output_type": "execute_result",
          "data": {
            "text/plain": [
              "12"
            ]
          },
          "metadata": {},
          "execution_count": 20
        }
      ]
    },
    {
      "cell_type": "code",
      "source": [],
      "metadata": {
        "id": "fXEbm0mnLnTi"
      },
      "execution_count": null,
      "outputs": []
    },
    {
      "cell_type": "code",
      "source": [
        "def random_v2(D):\n",
        "  model_baseline_p1_weights = model_baseline_p1.get_weights()\n",
        "  tmp_weights = []\n",
        "  # print(type(D))\n",
        "  for i in range(0,12,2):\n",
        "    # print(i)\n",
        "    # print(i+1)\n",
        "    s, u, v = tf.linalg.svd(model_baseline_p1.get_weights()[i])\n",
        "    s= tf.linalg.diag(s)\n",
        "    u_new = u[:,:D]\n",
        "    s_new = s[:D,:D]\n",
        "    v_new = v[:,:D]\n",
        "    weights_new = tf.matmul(u_new,tf.matmul(s_new,v_new,adjoint_b=True))\n",
        "    # even layers -weights\n",
        "    tmp_weights.append(model_baseline_p1_weights[i] if i == 10 else weights_new)\n",
        "    tmp_weights.append(model_baseline_p1_weights[i+1])\n",
        "  # for i in range(1,12,2):\n",
        "  #   tmp_bias.append(model_baseline_p1_weights[i+1])\n",
        "  # print(len(tmp_weights))\n",
        "  # for i in range(0,len(tmp_weights)):\n",
        "  #   print(f\"Weights of layer {i+1}: {tmp_weights[i].shape}\")\n",
        "  model_baseline_p1.set_weights(tmp_weights)\n",
        "  return model_baseline_p1.evaluate(test_images_1d, test_labels)"
      ],
      "metadata": {
        "id": "0EeZZ0vAj11R"
      },
      "execution_count": null,
      "outputs": []
    },
    {
      "cell_type": "code",
      "source": [
        "tmp_acc = []"
      ],
      "metadata": {
        "id": "3ihTKVJzs500"
      },
      "execution_count": null,
      "outputs": []
    },
    {
      "cell_type": "code",
      "source": [
        "model_baseline_p1.load_weights('/content/model_baseline_p1_weights.h5')\n",
        "tmp_acc.append(random_v2(10)[1])"
      ],
      "metadata": {
        "colab": {
          "base_uri": "https://localhost:8080/"
        },
        "id": "vI_9TAQalSYi",
        "outputId": "48fe7a6c-9595-4fa5-b4ab-2aec2e9962eb"
      },
      "execution_count": null,
      "outputs": [
        {
          "output_type": "stream",
          "name": "stdout",
          "text": [
            "313/313 [==============================] - 1s 2ms/step - loss: 1.7898 - accuracy: 0.5930\n"
          ]
        }
      ]
    },
    {
      "cell_type": "code",
      "source": [
        "model_baseline_p1.load_weights('/content/model_baseline_p1_weights.h5')\n",
        "tmp_acc.append(random_v2(20)[1])"
      ],
      "metadata": {
        "colab": {
          "base_uri": "https://localhost:8080/"
        },
        "id": "NRza4ivKmlga",
        "outputId": "18da40ab-67d3-4e7c-e43f-9eb0d1810715"
      },
      "execution_count": null,
      "outputs": [
        {
          "output_type": "stream",
          "name": "stdout",
          "text": [
            "313/313 [==============================] - 1s 2ms/step - loss: 0.4137 - accuracy: 0.8810\n"
          ]
        }
      ]
    },
    {
      "cell_type": "code",
      "source": [
        "model_baseline_p1.load_weights('/content/model_baseline_p1_weights.h5')\n",
        "tmp_acc.append(random_v2(50)[1])"
      ],
      "metadata": {
        "colab": {
          "base_uri": "https://localhost:8080/"
        },
        "id": "zoRndJPumnlr",
        "outputId": "a896ea24-93ee-412d-df8d-a48271e71d4c"
      },
      "execution_count": null,
      "outputs": [
        {
          "output_type": "stream",
          "name": "stdout",
          "text": [
            "313/313 [==============================] - 1s 2ms/step - loss: 0.0943 - accuracy: 0.9824\n"
          ]
        }
      ]
    },
    {
      "cell_type": "code",
      "source": [
        "model_baseline_p1.load_weights('/content/model_baseline_p1_weights.h5')\n",
        "tmp_acc.append(random_v2(100)[1])"
      ],
      "metadata": {
        "colab": {
          "base_uri": "https://localhost:8080/"
        },
        "id": "N0sX8nIDq6Su",
        "outputId": "08c71c42-1d6b-4ba0-fa1c-d489d993d767"
      },
      "execution_count": null,
      "outputs": [
        {
          "output_type": "stream",
          "name": "stdout",
          "text": [
            "313/313 [==============================] - 1s 2ms/step - loss: 0.1010 - accuracy: 0.9855\n"
          ]
        }
      ]
    },
    {
      "cell_type": "code",
      "source": [
        "model_baseline_p1.load_weights('/content/model_baseline_p1_weights.h5')\n",
        "tmp_acc.append(random_v2(200)[1])"
      ],
      "metadata": {
        "colab": {
          "base_uri": "https://localhost:8080/"
        },
        "id": "5DWKOyRQq8ND",
        "outputId": "5d968d84-ac86-4f12-b9ac-099dad3f3610"
      },
      "execution_count": null,
      "outputs": [
        {
          "output_type": "stream",
          "name": "stdout",
          "text": [
            "313/313 [==============================] - 1s 2ms/step - loss: 0.1099 - accuracy: 0.9851\n"
          ]
        }
      ]
    },
    {
      "cell_type": "code",
      "source": [
        "model_baseline_p1.load_weights('/content/model_baseline_p1_weights.h5')\n",
        "tmp_acc.append(random_v2(784)[1])"
      ],
      "metadata": {
        "colab": {
          "base_uri": "https://localhost:8080/"
        },
        "id": "QvKx7B96q9bU",
        "outputId": "b804afe0-c107-4e1c-b53c-287242d1e929"
      },
      "execution_count": null,
      "outputs": [
        {
          "output_type": "stream",
          "name": "stdout",
          "text": [
            "313/313 [==============================] - 1s 2ms/step - loss: 0.1256 - accuracy: 0.9846\n"
          ]
        }
      ]
    },
    {
      "cell_type": "code",
      "source": [
        "plt.plot([10,20,50,100,200,'D_full'],tmp_acc)"
      ],
      "metadata": {
        "colab": {
          "base_uri": "https://localhost:8080/",
          "height": 448
        },
        "id": "Dr-1DF-0rSoG",
        "outputId": "1b4c26e6-e350-4ad7-83b0-2c6b643e6767"
      },
      "execution_count": null,
      "outputs": [
        {
          "output_type": "execute_result",
          "data": {
            "text/plain": [
              "[<matplotlib.lines.Line2D at 0x791e48264d90>]"
            ]
          },
          "metadata": {},
          "execution_count": 29
        },
        {
          "output_type": "display_data",
          "data": {
            "text/plain": [
              "<Figure size 640x480 with 1 Axes>"
            ],
            "image/png": "[encoded data removed]"
          },
          "metadata": {}
        }
      ]
    },
    {
      "cell_type": "code",
      "source": [],
      "metadata": {
        "id": "5zu1OeOIAeW_"
      },
      "execution_count": null,
      "outputs": []
    },
    {
      "cell_type": "code",
      "source": [],
      "metadata": {
        "id": "hfEH47ikPAZ2"
      },
      "execution_count": null,
      "outputs": []
    },
    {
      "cell_type": "markdown",
      "source": [
        "#part 2"
      ],
      "metadata": {
        "id": "HU61FfDcAtF-"
      }
    },
    {
      "cell_type": "code",
      "execution_count": null,
      "metadata": {
        "id": "7zaK6sCxG46x"
      },
      "outputs": [],
      "source": [
        "import numpy as np\n",
        "import matplotlib.pyplot as plt\n",
        "import pandas as pd\n",
        "import tensorflow as tf\n",
        "from tensorflow.keras.datasets import mnist"
      ]
    },
    {
      "cell_type": "code",
      "source": [
        "(train_images, train_labels), (test_images, test_labels) = mnist.load_data()"
      ],
      "metadata": {
        "id": "T34r9RWsG46y"
      },
      "execution_count": null,
      "outputs": []
    },
    {
      "cell_type": "code",
      "source": [
        "train_images, test_images = train_images / 255.0, test_images / 255.0"
      ],
      "metadata": {
        "id": "5yvCZyHaG46y"
      },
      "execution_count": null,
      "outputs": []
    },
    {
      "cell_type": "code",
      "source": [
        "train_images_1d = train_images.reshape(train_images.shape[0], -1)\n",
        "test_images_1d = test_images.reshape(test_images.shape[0], -1)"
      ],
      "metadata": {
        "id": "-hATfH97G46z"
      },
      "execution_count": null,
      "outputs": []
    },
    {
      "cell_type": "code",
      "source": [
        "train_images.shape"
      ],
      "metadata": {
        "colab": {
          "base_uri": "https://localhost:8080/"
        },
        "outputId": "40335d10-f4f3-41ef-c3ac-ae3d08e51c6b",
        "id": "LSUXHx5QG46z"
      },
      "execution_count": null,
      "outputs": [
        {
          "output_type": "execute_result",
          "data": {
            "text/plain": [
              "(60000, 28, 28)"
            ]
          },
          "metadata": {},
          "execution_count": 5
        }
      ]
    },
    {
      "cell_type": "code",
      "source": [
        "train_images_1d.shape, test_images_1d.shape, train_labels.shape, test_labels.shape"
      ],
      "metadata": {
        "colab": {
          "base_uri": "https://localhost:8080/"
        },
        "outputId": "0b8639d8-74c7-4666-8b70-109070e1d618",
        "id": "2hV0krx9G46z"
      },
      "execution_count": null,
      "outputs": [
        {
          "output_type": "execute_result",
          "data": {
            "text/plain": [
              "((60000, 784), (10000, 784), (60000,), (10000,))"
            ]
          },
          "metadata": {},
          "execution_count": 6
        }
      ]
    },
    {
      "cell_type": "code",
      "source": [
        "def custom_initializer(shape, dtype=None):\n",
        "  initial_weights = tf.keras.initializers.HeNormal()(shape, dtype=dtype)\n",
        "  return initial_weights"
      ],
      "metadata": {
        "id": "_awBM13BG46z"
      },
      "execution_count": null,
      "outputs": []
    },
    {
      "cell_type": "code",
      "source": [
        "model_baseline_p2 = tf.keras.Sequential([\n",
        "    tf.keras.layers.Input(shape=(784)),\n",
        "    tf.keras.layers.Dense(1024,activation='relu', kernel_initializer=custom_initializer),\n",
        "    tf.keras.layers.Dense(1024,activation='relu', kernel_initializer=custom_initializer),\n",
        "    tf.keras.layers.Dense(1024,activation='relu', kernel_initializer=custom_initializer),\n",
        "    tf.keras.layers.Dense(1024,activation='relu', kernel_initializer=custom_initializer),\n",
        "    tf.keras.layers.Dense(1024,activation='relu', kernel_initializer=custom_initializer),\n",
        "    tf.keras.layers.Dense(10,activation='softmax')\n",
        "  ])"
      ],
      "metadata": {
        "id": "yf4R-Z4iG460"
      },
      "execution_count": null,
      "outputs": []
    },
    {
      "cell_type": "code",
      "source": [
        "loss_fn = tf.keras.losses.SparseCategoricalCrossentropy(from_logits=True)\n",
        "optimizer_fn = tf.keras.optimizers.Adam()\n"
      ],
      "metadata": {
        "id": "VPDI8UaaG460"
      },
      "execution_count": null,
      "outputs": []
    },
    {
      "cell_type": "code",
      "source": [
        "model_baseline_p2.compile(optimizer=optimizer_fn, loss=loss_fn, metrics=['accuracy'])"
      ],
      "metadata": {
        "id": "ZH8wySpMG460"
      },
      "execution_count": null,
      "outputs": []
    },
    {
      "cell_type": "code",
      "source": [
        "from tqdm import tqdm\n",
        "\n",
        "epochs = 50\n",
        "\n",
        "history_baseline_p2 = []\n",
        "for epoch in tqdm(range(epochs), desc=\"Training Progress\"):\n",
        "    history = model_baseline_p2.fit(train_images_1d, train_labels, epochs=1, batch_size=256, verbose=0)\n",
        "    history_baseline_p2.append(history)\n"
      ],
      "metadata": {
        "id": "oLGMQ0vwG460"
      },
      "execution_count": null,
      "outputs": []
    },
    {
      "cell_type": "code",
      "source": [
        "model_baseline_p2.load_weights('/content/model_baseline_p2_weights.h5')"
      ],
      "metadata": {
        "id": "el49shxwSW52"
      },
      "execution_count": null,
      "outputs": []
    },
    {
      "cell_type": "code",
      "source": [
        "model_baseline_p2_weights = model_baseline_p2.get_weights()"
      ],
      "metadata": {
        "id": "_i8XFUjRI9YK"
      },
      "execution_count": null,
      "outputs": []
    },
    {
      "cell_type": "code",
      "source": [
        "# ref: https://www.geeksforgeeks.org/appending-a-dictionary-to-a-list-in-python/#\n",
        "def random_v3(D):\n",
        "  model_baseline_p2_weights = model_baseline_p2.get_weights()\n",
        "  tmp_weights = []\n",
        "  # print(type(D))\n",
        "  for i in range(0,12,2):\n",
        "    # print(i)\n",
        "    # print(i+1)\n",
        "    s, u, v = tf.linalg.svd(model_baseline_p2.get_weights()[i])\n",
        "    s= tf.linalg.diag(s)\n",
        "    u_new = u[:,:D]\n",
        "    s_new = s[:D,:D]\n",
        "    v_new = v[:,:D]\n",
        "    weights_new = {'key1': u_new, 'key2': tf.matmul(s_new, v_new, adjoint_b=True)}\n",
        "    # layers -weights\n",
        "    tmp_weights.append(model_baseline_p2_weights[i] if i == 10 else weights_new)\n",
        "    # layers -bias\n",
        "    tmp_weights.append(model_baseline_p2_weights[i+1])\n",
        "  # # updating weights of the model\n",
        "  # model_baseline_p1.set_weights(tmp_weights)\n",
        "  # # returning the accuracy of the model\n",
        "  # return model_baseline_p1.evaluate(test_images_1d, test_labels)\n",
        "  return tmp_weights"
      ],
      "metadata": {
        "id": "oxGS3LMONgLp"
      },
      "execution_count": null,
      "outputs": []
    },
    {
      "cell_type": "code",
      "source": [
        "updated_weights = random_v3(20)"
      ],
      "metadata": {
        "id": "G7N5jNshKi4l"
      },
      "execution_count": null,
      "outputs": []
    },
    {
      "cell_type": "code",
      "source": [
        "updated_weights_final = []\n",
        "for item in updated_weights:\n",
        "    if isinstance(item, dict):\n",
        "        updated_weights_final.append(item['key1'])\n",
        "        updated_weights_final.append(tf.zeros(20))\n",
        "        updated_weights_final.append(item['key2'])\n",
        "        print(f\"The shape of U is {item['key1'].shape}\")\n",
        "        print(f\"The shape of middle layer is {20}\")\n",
        "        print(f\"The shape of V is {item['key2'].shape}\")\n",
        "    else:\n",
        "        updated_weights_final.append(item)\n",
        "        print(f\"The shape of normal weights is  {item.shape}\")\n"
      ],
      "metadata": {
        "colab": {
          "base_uri": "https://localhost:8080/"
        },
        "id": "TQUiv81PSf4p",
        "outputId": "33eb396b-4181-4ef5-f218-100acab3f271"
      },
      "execution_count": null,
      "outputs": [
        {
          "output_type": "stream",
          "name": "stdout",
          "text": [
            "The shape of V is (784, 20)\n",
            "The shape of V is (20, 1024)\n",
            "The shape of normal weights is  (1024,)\n",
            "The shape of V is (1024, 20)\n",
            "The shape of V is (20, 1024)\n",
            "The shape of normal weights is  (1024,)\n",
            "The shape of V is (1024, 20)\n",
            "The shape of V is (20, 1024)\n",
            "The shape of normal weights is  (1024,)\n",
            "The shape of V is (1024, 20)\n",
            "The shape of V is (20, 1024)\n",
            "The shape of normal weights is  (1024,)\n",
            "The shape of V is (1024, 20)\n",
            "The shape of V is (20, 1024)\n",
            "The shape of normal weights is  (1024,)\n",
            "The shape of normal weights is  (1024, 10)\n",
            "The shape of normal weights is  (10,)\n"
          ]
        }
      ]
    },
    {
      "cell_type": "code",
      "source": [
        "def custom_initializer(shape, dtype=None):\n",
        "  initial_weights = tf.keras.initializers.HeNormal()(shape, dtype=dtype)\n",
        "  return initial_weights\n",
        "model_baseline_p2_modified = tf.keras.Sequential([\n",
        "    tf.keras.layers.Input(shape=(784)),\n",
        "    tf.keras.layers.Dense(20),\n",
        "    tf.keras.layers.Dense(1024,activation='relu', kernel_initializer=custom_initializer),\n",
        "    tf.keras.layers.Dense(20),\n",
        "    tf.keras.layers.Dense(1024,activation='relu', kernel_initializer=custom_initializer),\n",
        "    tf.keras.layers.Dense(20),\n",
        "    tf.keras.layers.Dense(1024,activation='relu', kernel_initializer=custom_initializer),\n",
        "    tf.keras.layers.Dense(20),\n",
        "    tf.keras.layers.Dense(1024,activation='relu', kernel_initializer=custom_initializer),\n",
        "    tf.keras.layers.Dense(20),\n",
        "    tf.keras.layers.Dense(1024,activation='relu', kernel_initializer=custom_initializer),\n",
        "    tf.keras.layers.Dense(10,activation='softmax')\n",
        "  ])\n",
        "model_baseline_p2_modified.summary()"
      ],
      "metadata": {
        "colab": {
          "base_uri": "https://localhost:8080/"
        },
        "id": "WYpOxIzCPcnx",
        "outputId": "93f4870e-903d-480a-e75d-0cafe4868408"
      },
      "execution_count": null,
      "outputs": [
        {
          "output_type": "stream",
          "name": "stdout",
          "text": [
            "Model: \"sequential_4\"\n",
            "_________________________________________________________________\n",
            " Layer (type)                Output Shape              Param #   \n",
            "=================================================================\n",
            " dense_39 (Dense)            (None, 20)                15700     \n",
            "                                                                 \n",
            " dense_40 (Dense)            (None, 1024)              21504     \n",
            "                                                                 \n",
            " dense_41 (Dense)            (None, 20)                20500     \n",
            "                                                                 \n",
            " dense_42 (Dense)            (None, 1024)              21504     \n",
            "                                                                 \n",
            " dense_43 (Dense)            (None, 20)                20500     \n",
            "                                                                 \n",
            " dense_44 (Dense)            (None, 1024)              21504     \n",
            "                                                                 \n",
            " dense_45 (Dense)            (None, 20)                20500     \n",
            "                                                                 \n",
            " dense_46 (Dense)            (None, 1024)              21504     \n",
            "                                                                 \n",
            " dense_47 (Dense)            (None, 20)                20500     \n",
            "                                                                 \n",
            " dense_48 (Dense)            (None, 1024)              21504     \n",
            "                                                                 \n",
            " dense_49 (Dense)            (None, 10)                10250     \n",
            "                                                                 \n",
            "=================================================================\n",
            "Total params: 215,470\n",
            "Trainable params: 215,470\n",
            "Non-trainable params: 0\n",
            "_________________________________________________________________\n"
          ]
        }
      ]
    },
    {
      "cell_type": "code",
      "source": [
        "model_baseline_p2_modified.set_weights(updated_weights_final)"
      ],
      "metadata": {
        "id": "TgXXbe-rLJVd"
      },
      "execution_count": null,
      "outputs": []
    },
    {
      "cell_type": "code",
      "source": [
        "loss_fn = tf.keras.losses.SparseCategoricalCrossentropy(from_logits=True)\n",
        "optimizer_fn = tf.keras.optimizers.Adam(learning_rate= 0.000001)"
      ],
      "metadata": {
        "id": "VVtpmGg8L-z1"
      },
      "execution_count": null,
      "outputs": []
    },
    {
      "cell_type": "code",
      "source": [
        "model_baseline_p2_modified.compile(optimizer=optimizer_fn, loss=loss_fn, metrics=['accuracy'])"
      ],
      "metadata": {
        "id": "dy4jqYEmDw4R"
      },
      "execution_count": null,
      "outputs": []
    },
    {
      "cell_type": "code",
      "source": [
        "history_model_baseline_p2_modified = model_baseline_p2_modified.fit(train_images_1d, train_labels, epochs=epochs,batch_size = 512)"
      ],
      "metadata": {
        "colab": {
          "base_uri": "https://localhost:8080/"
        },
        "id": "9_o4iDgpJAyh",
        "outputId": "6764e6a9-3d59-44df-ecd9-0324284ec9a6"
      },
      "execution_count": null,
      "outputs": [
        {
          "output_type": "stream",
          "name": "stdout",
          "text": [
            "Epoch 1/50\n",
            "118/118 [==============================] - 8s 67ms/step - loss: 0.3188 - accuracy: 0.9154\n",
            "Epoch 2/50\n",
            "118/118 [==============================] - 6s 49ms/step - loss: 0.2948 - accuracy: 0.9218\n",
            "Epoch 3/50\n",
            "118/118 [==============================] - 5s 45ms/step - loss: 0.2730 - accuracy: 0.9288\n",
            "Epoch 4/50\n",
            "118/118 [==============================] - 8s 70ms/step - loss: 0.2534 - accuracy: 0.9346\n",
            "Epoch 5/50\n",
            "118/118 [==============================] - 8s 64ms/step - loss: 0.2359 - accuracy: 0.9391\n",
            "Epoch 6/50\n",
            "118/118 [==============================] - 6s 47ms/step - loss: 0.2209 - accuracy: 0.9435\n",
            "Epoch 7/50\n",
            "118/118 [==============================] - 8s 64ms/step - loss: 0.2081 - accuracy: 0.9473\n",
            "Epoch 8/50\n",
            "118/118 [==============================] - 5s 42ms/step - loss: 0.1972 - accuracy: 0.9503\n",
            "Epoch 9/50\n",
            "118/118 [==============================] - 8s 65ms/step - loss: 0.1881 - accuracy: 0.9525\n",
            "Epoch 10/50\n",
            "118/118 [==============================] - 7s 55ms/step - loss: 0.1805 - accuracy: 0.9542\n",
            "Epoch 11/50\n",
            "118/118 [==============================] - 5s 41ms/step - loss: 0.1742 - accuracy: 0.9560\n",
            "Epoch 12/50\n",
            "118/118 [==============================] - 6s 54ms/step - loss: 0.1688 - accuracy: 0.9572\n",
            "Epoch 13/50\n",
            "118/118 [==============================] - 7s 56ms/step - loss: 0.1642 - accuracy: 0.9583\n",
            "Epoch 14/50\n",
            "118/118 [==============================] - 5s 41ms/step - loss: 0.1602 - accuracy: 0.9593\n",
            "Epoch 15/50\n",
            "118/118 [==============================] - 6s 54ms/step - loss: 0.1567 - accuracy: 0.9600\n",
            "Epoch 16/50\n",
            "118/118 [==============================] - 7s 59ms/step - loss: 0.1536 - accuracy: 0.9606\n",
            "Epoch 17/50\n",
            "118/118 [==============================] - 5s 41ms/step - loss: 0.1508 - accuracy: 0.9610\n",
            "Epoch 18/50\n",
            "118/118 [==============================] - 6s 52ms/step - loss: 0.1483 - accuracy: 0.9613\n",
            "Epoch 19/50\n",
            "118/118 [==============================] - 7s 58ms/step - loss: 0.1461 - accuracy: 0.9617\n",
            "Epoch 20/50\n",
            "118/118 [==============================] - 5s 41ms/step - loss: 0.1440 - accuracy: 0.9623\n",
            "Epoch 21/50\n",
            "118/118 [==============================] - 6s 52ms/step - loss: 0.1421 - accuracy: 0.9626\n",
            "Epoch 22/50\n",
            "118/118 [==============================] - 7s 58ms/step - loss: 0.1403 - accuracy: 0.9629\n",
            "Epoch 23/50\n",
            "118/118 [==============================] - 5s 42ms/step - loss: 0.1387 - accuracy: 0.9632\n",
            "Epoch 24/50\n",
            "118/118 [==============================] - 6s 53ms/step - loss: 0.1372 - accuracy: 0.9634\n",
            "Epoch 25/50\n",
            "118/118 [==============================] - 7s 58ms/step - loss: 0.1357 - accuracy: 0.9635\n",
            "Epoch 26/50\n",
            "118/118 [==============================] - 6s 51ms/step - loss: 0.1344 - accuracy: 0.9638\n",
            "Epoch 27/50\n",
            "118/118 [==============================] - 7s 62ms/step - loss: 0.1331 - accuracy: 0.9641\n",
            "Epoch 28/50\n",
            "118/118 [==============================] - 6s 55ms/step - loss: 0.1319 - accuracy: 0.9644\n",
            "Epoch 29/50\n",
            "118/118 [==============================] - 5s 41ms/step - loss: 0.1307 - accuracy: 0.9647\n",
            "Epoch 30/50\n",
            "118/118 [==============================] - 7s 58ms/step - loss: 0.1296 - accuracy: 0.9649\n",
            "Epoch 31/50\n",
            "118/118 [==============================] - 6s 51ms/step - loss: 0.1285 - accuracy: 0.9652\n",
            "Epoch 32/50\n",
            "118/118 [==============================] - 5s 41ms/step - loss: 0.1274 - accuracy: 0.9654\n",
            "Epoch 33/50\n",
            "118/118 [==============================] - 7s 61ms/step - loss: 0.1264 - accuracy: 0.9656\n",
            "Epoch 34/50\n",
            "118/118 [==============================] - 6s 53ms/step - loss: 0.1255 - accuracy: 0.9657\n",
            "Epoch 35/50\n",
            "118/118 [==============================] - 5s 42ms/step - loss: 0.1245 - accuracy: 0.9660\n",
            "Epoch 36/50\n",
            "118/118 [==============================] - 7s 63ms/step - loss: 0.1236 - accuracy: 0.9662\n",
            "Epoch 37/50\n",
            "118/118 [==============================] - 6s 49ms/step - loss: 0.1228 - accuracy: 0.9665\n",
            "Epoch 38/50\n",
            "118/118 [==============================] - 5s 42ms/step - loss: 0.1219 - accuracy: 0.9667\n",
            "Epoch 39/50\n",
            "118/118 [==============================] - 7s 62ms/step - loss: 0.1211 - accuracy: 0.9669\n",
            "Epoch 40/50\n",
            "118/118 [==============================] - 6s 48ms/step - loss: 0.1202 - accuracy: 0.9671\n",
            "Epoch 41/50\n",
            "118/118 [==============================] - 5s 40ms/step - loss: 0.1194 - accuracy: 0.9673\n",
            "Epoch 42/50\n",
            "118/118 [==============================] - 7s 59ms/step - loss: 0.1187 - accuracy: 0.9675\n",
            "Epoch 43/50\n",
            "118/118 [==============================] - 6s 53ms/step - loss: 0.1179 - accuracy: 0.9677\n",
            "Epoch 44/50\n",
            "118/118 [==============================] - 5s 42ms/step - loss: 0.1172 - accuracy: 0.9678\n",
            "Epoch 45/50\n",
            "118/118 [==============================] - 7s 61ms/step - loss: 0.1164 - accuracy: 0.9680\n",
            "Epoch 46/50\n",
            "118/118 [==============================] - 6s 52ms/step - loss: 0.1157 - accuracy: 0.9682\n",
            "Epoch 47/50\n",
            "118/118 [==============================] - 5s 41ms/step - loss: 0.1150 - accuracy: 0.9683\n",
            "Epoch 48/50\n",
            "118/118 [==============================] - 7s 61ms/step - loss: 0.1143 - accuracy: 0.9684\n",
            "Epoch 49/50\n",
            "118/118 [==============================] - 6s 50ms/step - loss: 0.1137 - accuracy: 0.9687\n",
            "Epoch 50/50\n",
            "118/118 [==============================] - 5s 41ms/step - loss: 0.1130 - accuracy: 0.9688\n"
          ]
        }
      ]
    },
    {
      "cell_type": "code",
      "source": [
        "model_baseline_p2_modified.evaluate(test_images_1d, test_labels, batch_size=256)[1]*100"
      ],
      "metadata": {
        "colab": {
          "base_uri": "https://localhost:8080/"
        },
        "id": "9y8hDTWeZEHP",
        "outputId": "7489bb53-9ecd-4c78-8d2d-68fa35f52967"
      },
      "execution_count": null,
      "outputs": [
        {
          "output_type": "stream",
          "name": "stdout",
          "text": [
            "40/40 [==============================] - 1s 16ms/step - loss: 0.1421 - accuracy: 0.9654\n"
          ]
        },
        {
          "output_type": "execute_result",
          "data": {
            "text/plain": [
              "96.5399980545044"
            ]
          },
          "metadata": {},
          "execution_count": 44
        }
      ]
    },
    {
      "cell_type": "code",
      "source": [
        "# Accuracy jumped from from 91 to 97 percent."
      ],
      "metadata": {
        "id": "NCnLKAxxafsA"
      },
      "execution_count": null,
      "outputs": []
    },
    {
      "cell_type": "markdown",
      "source": [
        "#part 3\n"
      ],
      "metadata": {
        "id": "DsPhxhx7qow7"
      }
    },
    {
      "cell_type": "code",
      "execution_count": null,
      "metadata": {
        "id": "yjWE9_PL5WDQ"
      },
      "outputs": [],
      "source": [
        "import numpy as np\n",
        "import matplotlib.pyplot as plt\n",
        "import pandas as pd\n",
        "import tensorflow as tf\n",
        "from tensorflow.keras.datasets import mnist"
      ]
    },
    {
      "cell_type": "code",
      "source": [
        "(train_images, train_labels), (test_images, test_labels) = mnist.load_data()"
      ],
      "metadata": {
        "colab": {
          "base_uri": "https://localhost:8080/"
        },
        "outputId": "f6fdc712-8d0b-43bb-9804-9848dddb5963",
        "id": "1w3uUClX5WDR"
      },
      "execution_count": null,
      "outputs": [
        {
          "output_type": "stream",
          "name": "stdout",
          "text": [
            "Downloading data from https://storage.googleapis.com/tensorflow/tf-keras-datasets/mnist.npz\n",
            "11490434/11490434 [==============================] - 1s 0us/step\n"
          ]
        }
      ]
    },
    {
      "cell_type": "code",
      "source": [
        "train_images, test_images = train_images / 255.0, test_images / 255.0"
      ],
      "metadata": {
        "id": "tdr6OlAH5WDR"
      },
      "execution_count": null,
      "outputs": []
    },
    {
      "cell_type": "code",
      "source": [
        "train_images_1d = train_images.reshape(train_images.shape[0], -1)\n",
        "test_images_1d = test_images.reshape(test_images.shape[0], -1)"
      ],
      "metadata": {
        "id": "Nvyso8z-5WDR"
      },
      "execution_count": null,
      "outputs": []
    },
    {
      "cell_type": "code",
      "source": [
        "train_images.shape"
      ],
      "metadata": {
        "colab": {
          "base_uri": "https://localhost:8080/"
        },
        "outputId": "60432ab2-7433-4cf6-d1d6-f72f1689d298",
        "id": "snxAjwk-5WDR"
      },
      "execution_count": null,
      "outputs": [
        {
          "output_type": "execute_result",
          "data": {
            "text/plain": [
              "(60000, 28, 28)"
            ]
          },
          "metadata": {},
          "execution_count": 5
        }
      ]
    },
    {
      "cell_type": "code",
      "source": [
        "train_images_1d.shape, test_images_1d.shape, train_labels.shape, test_labels.shape"
      ],
      "metadata": {
        "colab": {
          "base_uri": "https://localhost:8080/"
        },
        "outputId": "f7a05b74-41a1-4d59-a692-1b7d31bb6419",
        "id": "9jcnCHDt5WDR"
      },
      "execution_count": null,
      "outputs": [
        {
          "output_type": "execute_result",
          "data": {
            "text/plain": [
              "((60000, 784), (10000, 784), (60000,), (10000,))"
            ]
          },
          "metadata": {},
          "execution_count": 6
        }
      ]
    },
    {
      "cell_type": "code",
      "source": [
        "def custom_initializer(shape, dtype=None):\n",
        "  initial_weights = tf.keras.initializers.HeNormal()(shape, dtype=dtype)\n",
        "  return initial_weights"
      ],
      "metadata": {
        "id": "DqIpH2AX5WDS"
      },
      "execution_count": null,
      "outputs": []
    },
    {
      "cell_type": "code",
      "source": [
        "model_baseline_p3 = tf.keras.Sequential([\n",
        "    tf.keras.layers.Input(shape=(784)),\n",
        "    tf.keras.layers.Dense(1024,activation='relu', kernel_initializer=custom_initializer),\n",
        "    tf.keras.layers.Dense(1024,activation='relu', kernel_initializer=custom_initializer),\n",
        "    tf.keras.layers.Dense(1024,activation='relu', kernel_initializer=custom_initializer),\n",
        "    tf.keras.layers.Dense(1024,activation='relu', kernel_initializer=custom_initializer),\n",
        "    tf.keras.layers.Dense(1024,activation='relu', kernel_initializer=custom_initializer),\n",
        "    tf.keras.layers.Dense(10,activation='softmax')\n",
        "  ])"
      ],
      "metadata": {
        "id": "phhOmSeA5WDS"
      },
      "execution_count": null,
      "outputs": []
    },
    {
      "cell_type": "code",
      "source": [
        "loss_fn = tf.keras.losses.SparseCategoricalCrossentropy(from_logits=True)\n",
        "optimizer_fn = tf.keras.optimizers.Adam(learning_rate=0.001)\n"
      ],
      "metadata": {
        "id": "jQe-mYym5WDS"
      },
      "execution_count": null,
      "outputs": []
    },
    {
      "cell_type": "code",
      "source": [
        "model_baseline_p3.compile(optimizer=optimizer_fn, loss=loss_fn, metrics=['accuracy'])"
      ],
      "metadata": {
        "id": "3GLl_12L5WDS"
      },
      "execution_count": null,
      "outputs": []
    },
    {
      "cell_type": "code",
      "source": [
        "from tqdm import tqdm\n",
        "\n",
        "epochs = 50\n",
        "\n",
        "history_baseline_p3 = []\n",
        "for epoch in tqdm(range(epochs), desc=\"Training Progress\"):\n",
        "    history = model_baseline_p3.fit(train_images_1d, train_labels, epochs=1, batch_size=256, verbose=0)\n",
        "    history_baseline_p3.append(history)\n"
      ],
      "metadata": {
        "id": "YNEXUltD5WDS",
        "colab": {
          "base_uri": "https://localhost:8080/"
        },
        "outputId": "079819e1-31d6-4f43-c673-cf495379e816"
      },
      "execution_count": null,
      "outputs": [
        {
          "output_type": "stream",
          "name": "stderr",
          "text": [
            "\rTraining Progress:   0%|          | 0/50 [00:00<?, ?it/s]/usr/local/lib/python3.10/dist-packages/keras/src/backend.py:5729: UserWarning: \"`sparse_categorical_crossentropy` received `from_logits=True`, but the `output` argument was produced by a Softmax activation and thus does not represent logits. Was this intended?\n",
            "  output, from_logits = _get_logits(\n",
            "Training Progress: 100%|██████████| 50/50 [01:15<00:00,  1.50s/it]\n"
          ]
        }
      ]
    },
    {
      "cell_type": "code",
      "source": [
        "model_baseline_p3.save_weights('model_baseline_p3_weights.h5')"
      ],
      "metadata": {
        "id": "ZzK6rtenDtMJ"
      },
      "execution_count": null,
      "outputs": []
    },
    {
      "cell_type": "code",
      "source": [
        "model_baseline_p3.load_weights('/content/model_baseline_p2_weights.h5')"
      ],
      "metadata": {
        "id": "jxLxwhu755Lj"
      },
      "execution_count": null,
      "outputs": []
    },
    {
      "cell_type": "code",
      "source": [
        "#ref: https://www.youtube.com/watch?v=n-PgCuD2DNg&list=PL1cO-IW9gs1agWeimC9h0wZqRbskWXOUL&index=12&ab_channel=OnePageCode https://www.tensorflow.org/guide/keras/making_new_layers_and_models_via_subclassing%20https://www.tensorflow.org/api_docs/python/tf/custom_gradient\n",
        "# i ahve used to code for custom layer by learning from the video above\n",
        "class MyDenseLayer(tf.keras.layers.Layer):\n",
        "  def __init__(self, num_outputs):\n",
        "    super(MyDenseLayer, self).__init__()\n",
        "    self.num_outputs = num_outputs\n",
        "  def build(self, input_shape):\n",
        "    self.kernel = self.add_weight(\"kernel\", shape=[int(input_shape[-1]), self.num_outputs])\n",
        "    self.bias = self.add_weight(\"bias\", shape = [self.num_outputs,])\n",
        "  def call(self, inputs):\n",
        "    # updated weight code here to call it to next layer\n",
        "    W_new = quantize(self.kernel)\n",
        "    return tf.keras.activations.relu(tf.matmul(inputs, W_new) + self.bias)"
      ],
      "metadata": {
        "id": "pF27DENKsI-a"
      },
      "execution_count": null,
      "outputs": []
    },
    {
      "cell_type": "code",
      "source": [
        "#ref : https://stackoverflow.com/questions/60864049/how-to-backprop-for-custom-quantization-in-tensorflow-2-0\n",
        "@tf.custom_gradient\n",
        "def quantize(x):\n",
        "  s, u, v = tf.linalg.svd(x)\n",
        "  x_new = tf.matmul(tf.matmul(u[:,0:20],tf.linalg.diag(s[0:20])),v[:,0:20],transpose_b=True)\n",
        "  def grad(dy):\n",
        "    return dy\n",
        "  return x_new, grad"
      ],
      "metadata": {
        "id": "5_Y664jvx1Fr"
      },
      "execution_count": null,
      "outputs": []
    },
    {
      "cell_type": "code",
      "source": [
        "model_baseline_p3_modified = tf.keras.Sequential([\n",
        "    tf.keras.layers.Input(shape=(784)),\n",
        "    MyDenseLayer(1024),\n",
        "    MyDenseLayer(1024),\n",
        "    MyDenseLayer(1024),\n",
        "    MyDenseLayer(1024),\n",
        "    MyDenseLayer(1024),\n",
        "    tf.keras.layers.Dense(10, activation='softmax')\n",
        "])\n"
      ],
      "metadata": {
        "id": "kBvZ3t345lYp"
      },
      "execution_count": null,
      "outputs": []
    },
    {
      "cell_type": "code",
      "source": [
        "model_baseline_p3_modified.set_weights(model_baseline_p3.get_weights())"
      ],
      "metadata": {
        "id": "j6DG9onu5lVP"
      },
      "execution_count": null,
      "outputs": []
    },
    {
      "cell_type": "code",
      "source": [
        "model_baseline_p3_modified.compile(optimizer='adam',loss='sparse_categorical_crossentropy',metrics=['accuracy'])"
      ],
      "metadata": {
        "id": "mM652Ke-5lRm"
      },
      "execution_count": null,
      "outputs": []
    },
    {
      "cell_type": "code",
      "source": [
        "epochs = 20\n",
        "history_model_baseline_p3_modified = model_baseline_p3_modified.fit(train_images_1d, train_labels, epochs=epochs,batch_size = 2048)"
      ],
      "metadata": {
        "colab": {
          "base_uri": "https://localhost:8080/"
        },
        "id": "Bunvebk96elf",
        "outputId": "82b55e96-1354-431f-8cc2-2823e5f3fe2b"
      },
      "execution_count": null,
      "outputs": [
        {
          "output_type": "stream",
          "name": "stdout",
          "text": [
            "Epoch 1/20\n",
            "30/30 [==============================] - 41s 1s/step - loss: 0.1187 - accuracy: 0.9688\n",
            "Epoch 2/20\n",
            "30/30 [==============================] - 41s 1s/step - loss: 0.0707 - accuracy: 0.9785\n",
            "Epoch 3/20\n",
            "30/30 [==============================] - 41s 1s/step - loss: 0.0546 - accuracy: 0.9826\n",
            "Epoch 4/20\n",
            "30/30 [==============================] - 40s 1s/step - loss: 0.0516 - accuracy: 0.9836\n",
            "Epoch 5/20\n",
            "30/30 [==============================] - 41s 1s/step - loss: 0.0484 - accuracy: 0.9851\n",
            "Epoch 6/20\n",
            "30/30 [==============================] - 41s 1s/step - loss: 0.0402 - accuracy: 0.9869\n",
            "Epoch 7/20\n",
            "30/30 [==============================] - 41s 1s/step - loss: 0.0390 - accuracy: 0.9875\n",
            "Epoch 8/20\n",
            "30/30 [==============================] - 41s 1s/step - loss: 0.0361 - accuracy: 0.9882\n",
            "Epoch 9/20\n",
            "30/30 [==============================] - 41s 1s/step - loss: 0.0427 - accuracy: 0.9865\n",
            "Epoch 10/20\n",
            "30/30 [==============================] - 41s 1s/step - loss: 0.0374 - accuracy: 0.9880\n",
            "Epoch 11/20\n",
            "30/30 [==============================] - 41s 1s/step - loss: 0.0365 - accuracy: 0.9877\n",
            "Epoch 12/20\n",
            "30/30 [==============================] - 41s 1s/step - loss: 0.0380 - accuracy: 0.9876\n",
            "Epoch 13/20\n",
            "30/30 [==============================] - 41s 1s/step - loss: 0.0300 - accuracy: 0.9901\n",
            "Epoch 14/20\n",
            "30/30 [==============================] - 41s 1s/step - loss: 0.0274 - accuracy: 0.9908\n",
            "Epoch 15/20\n",
            "30/30 [==============================] - 41s 1s/step - loss: 0.0294 - accuracy: 0.9901\n",
            "Epoch 16/20\n",
            "30/30 [==============================] - 41s 1s/step - loss: 0.0269 - accuracy: 0.9909\n",
            "Epoch 17/20\n",
            "30/30 [==============================] - 40s 1s/step - loss: 0.0281 - accuracy: 0.9904\n",
            "Epoch 18/20\n",
            "30/30 [==============================] - 40s 1s/step - loss: 0.0274 - accuracy: 0.9915\n",
            "Epoch 19/20\n",
            "30/30 [==============================] - 40s 1s/step - loss: 0.0274 - accuracy: 0.9907\n",
            "Epoch 20/20\n",
            "30/30 [==============================] - 40s 1s/step - loss: 0.0240 - accuracy: 0.9920\n"
          ]
        }
      ]
    },
    {
      "cell_type": "code",
      "source": [
        "model_baseline_p3_modified.evaluate(test_images_1d, test_labels, batch_size=256)\n"
      ],
      "metadata": {
        "colab": {
          "base_uri": "https://localhost:8080/"
        },
        "outputId": "618b5d55-7b32-461b-846b-f04cf5841bc6",
        "id": "O_j2Q3J36elg"
      },
      "execution_count": null,
      "outputs": [
        {
          "output_type": "stream",
          "name": "stdout",
          "text": [
            "40/40 [==============================] - 54s 1s/step - loss: 0.0964 - accuracy: 0.9796\n"
          ]
        },
        {
          "output_type": "execute_result",
          "data": {
            "text/plain": [
              "[0.09638117998838425, 0.9796000123023987]"
            ]
          },
          "metadata": {},
          "execution_count": 27
        }
      ]
    },
    {
      "cell_type": "code",
      "source": [
        "model_baseline_p3_modified.save_weights('/content/model_baseline_p3_modified_weights.h5')\n"
      ],
      "metadata": {
        "id": "aWSHx1k4ADzk"
      },
      "execution_count": null,
      "outputs": []
    },
    {
      "cell_type": "code",
      "source": [],
      "metadata": {
        "id": "7qo4wuwWysNW"
      },
      "execution_count": null,
      "outputs": []
    },
    {
      "cell_type": "markdown",
      "source": [
        "#Part 4"
      ],
      "metadata": {
        "id": "ohaLuebHyv_a"
      }
    },
    {
      "cell_type": "code",
      "source": [
        "import pickle\n",
        "with open('/content/drive/MyDrive/dlsw3/trs.pkl', 'rb') as f:\n",
        "  training_data = pickle.load(f)\n",
        "with open('/content/drive/MyDrive/dlsw3/tes.pkl', 'rb') as f:\n",
        "  testing_data = pickle.load(f)"
      ],
      "metadata": {
        "id": "crQh2mMryv_b"
      },
      "execution_count": null,
      "outputs": []
    },
    {
      "cell_type": "code",
      "source": [
        "import librosa\n",
        "import itertools\n",
        "import numpy as np\n",
        "import random"
      ],
      "metadata": {
        "id": "4Xvb6BVTyv_b"
      },
      "execution_count": null,
      "outputs": []
    },
    {
      "cell_type": "code",
      "source": [
        "def apply_stft(data):\n",
        "    return np.abs(librosa.stft(data, n_fft=1024, hop_length=512)).T\n",
        "def generate_mini_batch(i, data):\n",
        "    positive_pairs = []\n",
        "    negative_pairs = []\n",
        "    tmp_data1 = data[:i*10] + data[i*10+10:]\n",
        "    tmp_data2 = data[i*10:i*10+10]\n",
        "    positive_pairs = [[apply_stft(tmp_data2[x]), apply_stft(tmp_data2[y])] for x, y in itertools.combinations(range(10), 2)]\n",
        "    negative_pairs = [[apply_stft(i[0]), apply_stft(i[1])] for i in random.choices(list(itertools.product(tmp_data1, tmp_data2)), k=45)]\n",
        "    return positive_pairs + negative_pairs\n",
        "def get_labels_mini_batch(i):\n",
        "    return np.concatenate((np.ones((i, 45), dtype=int), np.zeros((i, 45), dtype=int)), axis=1).flatten()"
      ],
      "metadata": {
        "id": "Qd3gC8zYyv_b"
      },
      "execution_count": null,
      "outputs": []
    },
    {
      "cell_type": "code",
      "source": [
        "training_data_modified = []\n",
        "for x in range(0,50):\n",
        "  training_data_modified.extend(generate_mini_batch(x,list(training_data)))\n",
        "testing_data_modified = []\n",
        "for x in range(0,20):\n",
        "  testing_data_modified.extend(generate_mini_batch(x,list(testing_data)))"
      ],
      "metadata": {
        "id": "ZyvugR1-yv_c"
      },
      "execution_count": null,
      "outputs": []
    },
    {
      "cell_type": "code",
      "source": [
        "training_labels = get_labels_mini_batch(50)"
      ],
      "metadata": {
        "id": "Ex1KkIWhyv_c"
      },
      "execution_count": null,
      "outputs": []
    },
    {
      "cell_type": "code",
      "source": [
        "testing_labels  = get_labels_mini_batch(20)"
      ],
      "metadata": {
        "id": "ykiGyQrYyv_c"
      },
      "execution_count": null,
      "outputs": []
    },
    {
      "cell_type": "code",
      "source": [
        "import tensorflow as tf\n",
        "from tensorflow.keras import layers, models\n",
        "def create_siamese_model(input_shape):\n",
        "    input_a = tf.keras.Input(shape=input_shape)\n",
        "    input_b = tf.keras.Input(shape=input_shape)\n",
        "    tmp_model_lstm = tf.keras.Sequential([\n",
        "        layers.LSTM(128, return_sequences=True),\n",
        "        layers.LSTM(64)\n",
        "    ])\n",
        "    processed_a = tmp_model_lstm(input_a)\n",
        "    processed_b = tmp_model_lstm(input_b)\n",
        "    dot_product = tf.keras.layers.Dot(axes=1, normalize=True)([processed_a, processed_b])\n",
        "    output = layers.Dense(1, activation='sigmoid')(dot_product)\n",
        "    siamese_model = models.Model(inputs=[input_a, input_b], outputs=output)\n",
        "    return siamese_model\n",
        "input_shape = (None, 513)\n",
        "siamese_model = create_siamese_model(input_shape)\n",
        "siamese_model.compile(optimizer=tf.keras.optimizers.Adam(0.001), loss='binary_crossentropy', metrics=['accuracy'])\n",
        "siamese_model.summary()"
      ],
      "metadata": {
        "colab": {
          "base_uri": "https://localhost:8080/"
        },
        "outputId": "7721f2c2-24ef-45fb-eeba-6625e3c8d775",
        "id": "Pbt-NkiEyv_d"
      },
      "execution_count": null,
      "outputs": [
        {
          "output_type": "stream",
          "name": "stdout",
          "text": [
            "Model: \"model_5\"\n",
            "__________________________________________________________________________________________________\n",
            " Layer (type)                Output Shape                 Param #   Connected to                  \n",
            "==================================================================================================\n",
            " input_13 (InputLayer)       [(None, None, 513)]          0         []                            \n",
            "                                                                                                  \n",
            " input_14 (InputLayer)       [(None, None, 513)]          0         []                            \n",
            "                                                                                                  \n",
            " sequential_6 (Sequential)   (None, 64)                   378112    ['input_13[0][0]',            \n",
            "                                                                     'input_14[0][0]']            \n",
            "                                                                                                  \n",
            " dot_5 (Dot)                 (None, 1)                    0         ['sequential_6[0][0]',        \n",
            "                                                                     'sequential_6[1][0]']        \n",
            "                                                                                                  \n",
            " dense_6 (Dense)             (None, 1)                    2         ['dot_5[0][0]']               \n",
            "                                                                                                  \n",
            "==================================================================================================\n",
            "Total params: 378114 (1.44 MB)\n",
            "Trainable params: 378114 (1.44 MB)\n",
            "Non-trainable params: 0 (0.00 Byte)\n",
            "__________________________________________________________________________________________________\n"
          ]
        }
      ]
    },
    {
      "cell_type": "code",
      "source": [
        "siamese_model.fit([np.stack(training_data_modified)[:, 0], np.stack(training_data_modified)[:, 1]], training_labels, batch_size=32, epochs=30)"
      ],
      "metadata": {
        "colab": {
          "base_uri": "https://localhost:8080/"
        },
        "outputId": "73a60983-1b76-44d5-ceaa-584972e033e0",
        "id": "aHYsQi0Iyv_d"
      },
      "execution_count": null,
      "outputs": [
        {
          "output_type": "stream",
          "name": "stdout",
          "text": [
            "Epoch 1/30\n",
            "141/141 [==============================] - 7s 10ms/step - loss: 0.5743 - accuracy: 0.7147\n",
            "Epoch 2/30\n",
            "141/141 [==============================] - 2s 11ms/step - loss: 0.4890 - accuracy: 0.8071\n",
            "Epoch 3/30\n",
            "141/141 [==============================] - 1s 10ms/step - loss: 0.4510 - accuracy: 0.8422\n",
            "Epoch 4/30\n",
            "141/141 [==============================] - 1s 10ms/step - loss: 0.4153 - accuracy: 0.8689\n",
            "Epoch 5/30\n",
            "141/141 [==============================] - 1s 10ms/step - loss: 0.3976 - accuracy: 0.8853\n",
            "Epoch 6/30\n",
            "141/141 [==============================] - 1s 10ms/step - loss: 0.3611 - accuracy: 0.9073\n",
            "Epoch 7/30\n",
            "141/141 [==============================] - 1s 10ms/step - loss: 0.3398 - accuracy: 0.9220\n",
            "Epoch 8/30\n",
            "141/141 [==============================] - 1s 10ms/step - loss: 0.3189 - accuracy: 0.9322\n",
            "Epoch 9/30\n",
            "141/141 [==============================] - 1s 10ms/step - loss: 0.2978 - accuracy: 0.9413\n",
            "Epoch 10/30\n",
            "141/141 [==============================] - 1s 10ms/step - loss: 0.2862 - accuracy: 0.9420\n",
            "Epoch 11/30\n",
            "141/141 [==============================] - 1s 11ms/step - loss: 0.2788 - accuracy: 0.9416\n",
            "Epoch 12/30\n",
            "141/141 [==============================] - 1s 10ms/step - loss: 0.2603 - accuracy: 0.9460\n",
            "Epoch 13/30\n",
            "141/141 [==============================] - 1s 10ms/step - loss: 0.2421 - accuracy: 0.9547\n",
            "Epoch 14/30\n",
            "141/141 [==============================] - 1s 10ms/step - loss: 0.2294 - accuracy: 0.9596\n",
            "Epoch 15/30\n",
            "141/141 [==============================] - 1s 10ms/step - loss: 0.2125 - accuracy: 0.9624\n",
            "Epoch 16/30\n",
            "141/141 [==============================] - 1s 10ms/step - loss: 0.1997 - accuracy: 0.9696\n",
            "Epoch 17/30\n",
            "141/141 [==============================] - 1s 10ms/step - loss: 0.1862 - accuracy: 0.9740\n",
            "Epoch 18/30\n",
            "141/141 [==============================] - 1s 10ms/step - loss: 0.1771 - accuracy: 0.9784\n",
            "Epoch 19/30\n",
            "141/141 [==============================] - 1s 10ms/step - loss: 0.1648 - accuracy: 0.9818\n",
            "Epoch 20/30\n",
            "141/141 [==============================] - 1s 10ms/step - loss: 0.1522 - accuracy: 0.9856\n",
            "Epoch 21/30\n",
            "141/141 [==============================] - 1s 10ms/step - loss: 0.1430 - accuracy: 0.9871\n",
            "Epoch 22/30\n",
            "141/141 [==============================] - 1s 10ms/step - loss: 0.1347 - accuracy: 0.9882\n",
            "Epoch 23/30\n",
            "141/141 [==============================] - 1s 10ms/step - loss: 0.1271 - accuracy: 0.9900\n",
            "Epoch 24/30\n",
            "141/141 [==============================] - 1s 10ms/step - loss: 0.1179 - accuracy: 0.9922\n",
            "Epoch 25/30\n",
            "141/141 [==============================] - 1s 10ms/step - loss: 0.1106 - accuracy: 0.9920\n",
            "Epoch 26/30\n",
            "141/141 [==============================] - 1s 10ms/step - loss: 0.1034 - accuracy: 0.9933\n",
            "Epoch 27/30\n",
            "141/141 [==============================] - 1s 9ms/step - loss: 0.0966 - accuracy: 0.9947\n",
            "Epoch 28/30\n",
            "141/141 [==============================] - 1s 9ms/step - loss: 0.0905 - accuracy: 0.9967\n",
            "Epoch 29/30\n",
            "141/141 [==============================] - 1s 10ms/step - loss: 0.0840 - accuracy: 0.9971\n",
            "Epoch 30/30\n",
            "141/141 [==============================] - 1s 10ms/step - loss: 0.0789 - accuracy: 0.9978\n"
          ]
        },
        {
          "output_type": "execute_result",
          "data": {
            "text/plain": [
              "<keras.src.callbacks.History at 0x78da6db188e0>"
            ]
          },
          "metadata": {},
          "execution_count": 20
        }
      ]
    },
    {
      "cell_type": "code",
      "source": [
        "siamese_model.evaluate([np.stack(testing_data_modified)[:, 0], np.stack(testing_data_modified)[:, 1]] ,testing_labels,batch_size=32,verbose=0)"
      ],
      "metadata": {
        "colab": {
          "base_uri": "https://localhost:8080/"
        },
        "outputId": "5d72ca70-4d7e-4da6-8783-e164922f594a",
        "id": "F-ETQ0vzyv_d"
      },
      "execution_count": null,
      "outputs": [
        {
          "output_type": "execute_result",
          "data": {
            "text/plain": [
              "[0.5503755211830139, 0.7427777647972107]"
            ]
          },
          "metadata": {},
          "execution_count": 21
        }
      ]
    },
    {
      "cell_type": "markdown",
      "source": [
        "the accuract on test set is 74%"
      ],
      "metadata": {
        "id": "feAYgw3EalBM"
      }
    },
    {
      "cell_type": "code",
      "source": [],
      "metadata": {
        "id": "MPH_3z86yv_e"
      },
      "execution_count": null,
      "outputs": []
    },
    {
      "cell_type": "markdown",
      "source": [
        "#part 5\n"
      ],
      "metadata": {
        "id": "K6X655F3j2JB"
      }
    },
    {
      "cell_type": "code",
      "source": [
        "import zipfile\n",
        "import os\n",
        "import pandas as pd\n",
        "import librosa\n",
        "import numpy as np\n",
        "import os\n",
        "# ref : https://stackoverflow.com/questions/66494366/what-is-the-difference-between-np-array-and-np-stack-applied-to-a-list-of-images"
      ],
      "metadata": {
        "id": "OSLfoSn-j3E7"
      },
      "execution_count": 1,
      "outputs": []
    },
    {
      "cell_type": "code",
      "source": [
        "with zipfile.ZipFile('/content/drive/MyDrive/dlsw3/homework3.zip', 'r') as zip_ref:\n",
        "    zip_ref.extractall()"
      ],
      "metadata": {
        "id": "Q1CVFWLPlfKP"
      },
      "execution_count": 2,
      "outputs": []
    },
    {
      "cell_type": "code",
      "source": [
        "import os\n",
        "import librosa\n",
        "import numpy as np\n",
        "def preprocess_and_get_max_col(train_loc, tr_lis):\n",
        "    max_col = 0\n",
        "    for file_name in tr_lis:\n",
        "        s, sr = librosa.load(train_loc + file_name, sr=None)\n",
        "        x = np.abs(librosa.stft(s, n_fft=1024, hop_length=512))\n",
        "        max_col = max(max_col, x.shape[1])\n",
        "    return max_col\n",
        "train_loc = \"/content/timit-homework/tr/\"\n",
        "tr = os.listdir(train_loc)\n",
        "val_loc = \"/content/timit-homework/v/\"\n",
        "v = os.listdir(val_loc)\n",
        "test_loc = \"/content/timit-homework/te/\"\n",
        "te = os.listdir(test_loc)\n",
        "\n",
        "max_col = preprocess_and_get_max_col(train_loc, tr)\n",
        "print(\"Maximum value of the training column number:\", max_col)\n",
        "max_col = preprocess_and_get_max_col(val_loc, v)\n",
        "print(\"Maximum value of the validating column number:\", max_col)\n",
        "max_col = preprocess_and_get_max_col(test_loc, te)\n",
        "print(\"Maximum value of the testing column number:\", max_col)\n"
      ],
      "metadata": {
        "colab": {
          "base_uri": "https://localhost:8080/"
        },
        "id": "EqqjVsR218za",
        "outputId": "aa325800-7120-420c-cb82-f5e9ce3b5e84"
      },
      "execution_count": 3,
      "outputs": [
        {
          "output_type": "stream",
          "name": "stdout",
          "text": [
            "Maximum value of the training column number: 178\n",
            "Maximum value of the validating column number: 178\n",
            "Maximum value of the testing column number: 195\n"
          ]
        }
      ]
    },
    {
      "cell_type": "markdown",
      "source": [
        "as you can see the data size variers for multiple different video there are 2 approaches we can take one being the mini batch size of same data input or you can use padding with max size of as that is the maximum number of data point above that for testing is 195 so i am just padding the data with 200\n"
      ],
      "metadata": {
        "id": "_vt74V5W_e4B"
      }
    },
    {
      "cell_type": "code",
      "source": [
        "def random_v4(location1):\n",
        "    # clean signal - trs\n",
        "    # noise signal - trn\n",
        "    # combi signal - trx\n",
        "    x = []\n",
        "    loco = os.listdir(location1)\n",
        "    loco.sort()\n",
        "    def preprocessing_audio(location):\n",
        "#          print(0)\n",
        "          import librosa\n",
        "          s, sr = librosa.load(location, sr=None)\n",
        "          poco = np.abs(librosa.stft(s, n_fft=1024, hop_length=512))\n",
        "          tmp_value = np.full((513, 200), 0.0)\n",
        "          tmp_value[:, 0:poco.shape[1]] = poco\n",
        "          tmp_value = np.transpose(tmp_value)\n",
        "          return tmp_value\n",
        "    for i in range(0,len(loco)):\n",
        "          x.append(preprocessing_audio(location1+loco[i]))\n",
        "    return x"
      ],
      "metadata": {
        "id": "OFz8y7xXAqIz"
      },
      "execution_count": 4,
      "outputs": []
    },
    {
      "cell_type": "code",
      "source": [
        "#train_data_S=train_data_N=train_data_X=[],[],[]\n",
        "train_data_location = '/content/timit-homework/tr/'\n",
        "#train_data_N=train_data_S=train_data_X=random_v4(train_data_location)\n",
        "z = random_v4(train_data_location)\n",
        "train_data_N = z[:1200]\n",
        "train_data_S = z[1200:2400]\n",
        "train_data_X = z[2400:]"
      ],
      "metadata": {
        "id": "u1lyTHb6E93O"
      },
      "execution_count": 5,
      "outputs": []
    },
    {
      "cell_type": "code",
      "source": [
        "# validating_data_S=validating_data_N=validating_data_X=[],[],[]\n",
        "validating_data_location ='/content/timit-homework/v/'\n",
        "z = random_v4(validating_data_location)\n",
        "validating_data_N= z[:1200]\n",
        "validating_data_S= z[1200:2400]\n",
        "validating_data_X= z[2400:]"
      ],
      "metadata": {
        "id": "cuTT7FmPHPTW"
      },
      "execution_count": 6,
      "outputs": []
    },
    {
      "cell_type": "code",
      "source": [
        "testing_data_location = '/content/timit-homework/te/'\n",
        "testing_data_X = random_v4(testing_data_location)"
      ],
      "metadata": {
        "id": "82gmSzqeW7EW"
      },
      "execution_count": 7,
      "outputs": []
    },
    {
      "cell_type": "code",
      "source": [
        "train_data_ibm = [np.where(train_data_S[i] > train_data_N[i], 1, 0) for i in range(1200)]"
      ],
      "metadata": {
        "id": "ywms2gUMPxbP"
      },
      "execution_count": 8,
      "outputs": []
    },
    {
      "cell_type": "code",
      "source": [
        "validation_data_ibm = [np.where(validating_data_S[i] > validating_data_N[i], 1, 0) for i in range(1200)]"
      ],
      "metadata": {
        "id": "hyrd9NVqPxSZ"
      },
      "execution_count": 9,
      "outputs": []
    },
    {
      "cell_type": "code",
      "source": [
        "import tensorflow as tf\n",
        "\n",
        "model_p5 = tf.keras.Sequential([\n",
        "    tf.keras.layers.LSTM(units=513,activation='tanh',return_sequences=True),\n",
        "    tf.keras.layers.Dropout(0.15),\n",
        "    tf.keras.layers.LSTM(units=600,activation='tanh',return_sequences=True),\n",
        "    tf.keras.layers.Dropout(0.15),\n",
        "    tf.keras.layers.Dense(units=513,activation='sigmoid',kernel_initializer=tf.keras.initializers.GlorotNormal())\n",
        "  ])\n",
        "model_p5.compile(optimizer=tf.keras.optimizers.Adam(learning_rate=0.01),loss='mean_squared_error',)\n"
      ],
      "metadata": {
        "id": "AV6EsTJ-PxIb"
      },
      "execution_count": 10,
      "outputs": []
    },
    {
      "cell_type": "code",
      "source": [
        "history_p5 = model_p5.fit(np.stack(train_data_X),\n",
        "                    np.stack(train_data_ibm),\n",
        "                    batch_size=10,epochs=50,verbose=True)\n"
      ],
      "metadata": {
        "id": "D63mjKzGUaWD",
        "colab": {
          "base_uri": "https://localhost:8080/"
        },
        "outputId": "b0b08a12-27e3-47e0-c0ad-325b321469dd"
      },
      "execution_count": 11,
      "outputs": [
        {
          "output_type": "stream",
          "name": "stdout",
          "text": [
            "Epoch 1/50\n",
            "120/120 [==============================] - 13s 32ms/step - loss: 0.1135\n",
            "Epoch 2/50\n",
            "120/120 [==============================] - 4s 31ms/step - loss: 0.0827\n",
            "Epoch 3/50\n",
            "120/120 [==============================] - 4s 31ms/step - loss: 0.0759\n",
            "Epoch 4/50\n",
            "120/120 [==============================] - 4s 31ms/step - loss: 0.0747\n",
            "Epoch 5/50\n",
            "120/120 [==============================] - 4s 31ms/step - loss: 0.0716\n",
            "Epoch 6/50\n",
            "120/120 [==============================] - 4s 31ms/step - loss: 0.0687\n",
            "Epoch 7/50\n",
            "120/120 [==============================] - 4s 31ms/step - loss: 0.0671\n",
            "Epoch 8/50\n",
            "120/120 [==============================] - 4s 31ms/step - loss: 0.0655\n",
            "Epoch 9/50\n",
            "120/120 [==============================] - 4s 31ms/step - loss: 0.0643\n",
            "Epoch 10/50\n",
            "120/120 [==============================] - 4s 31ms/step - loss: 0.0637\n",
            "Epoch 11/50\n",
            "120/120 [==============================] - 4s 31ms/step - loss: 0.0627\n",
            "Epoch 12/50\n",
            "120/120 [==============================] - 4s 31ms/step - loss: 0.0620\n",
            "Epoch 13/50\n",
            "120/120 [==============================] - 4s 31ms/step - loss: 0.0611\n",
            "Epoch 14/50\n",
            "120/120 [==============================] - 4s 31ms/step - loss: 0.0598\n",
            "Epoch 15/50\n",
            "120/120 [==============================] - 4s 31ms/step - loss: 0.0585\n",
            "Epoch 16/50\n",
            "120/120 [==============================] - 4s 31ms/step - loss: 0.0574\n",
            "Epoch 17/50\n",
            "120/120 [==============================] - 4s 31ms/step - loss: 0.0572\n",
            "Epoch 18/50\n",
            "120/120 [==============================] - 4s 31ms/step - loss: 0.0561\n",
            "Epoch 19/50\n",
            "120/120 [==============================] - 4s 31ms/step - loss: 0.0562\n",
            "Epoch 20/50\n",
            "120/120 [==============================] - 4s 31ms/step - loss: 0.0613\n",
            "Epoch 21/50\n",
            "120/120 [==============================] - 4s 31ms/step - loss: 0.0576\n",
            "Epoch 22/50\n",
            "120/120 [==============================] - 4s 31ms/step - loss: 0.0563\n",
            "Epoch 23/50\n",
            "120/120 [==============================] - 4s 31ms/step - loss: 0.0555\n",
            "Epoch 24/50\n",
            "120/120 [==============================] - 4s 31ms/step - loss: 0.0549\n",
            "Epoch 25/50\n",
            "120/120 [==============================] - 4s 31ms/step - loss: 0.0539\n",
            "Epoch 26/50\n",
            "120/120 [==============================] - 4s 31ms/step - loss: 0.0530\n",
            "Epoch 27/50\n",
            "120/120 [==============================] - 4s 31ms/step - loss: 0.0520\n",
            "Epoch 28/50\n",
            "120/120 [==============================] - 4s 31ms/step - loss: 0.0515\n",
            "Epoch 29/50\n",
            "120/120 [==============================] - 4s 31ms/step - loss: 0.0516\n",
            "Epoch 30/50\n",
            "120/120 [==============================] - 4s 31ms/step - loss: 0.0512\n",
            "Epoch 31/50\n",
            "120/120 [==============================] - 4s 31ms/step - loss: 0.0504\n",
            "Epoch 32/50\n",
            "120/120 [==============================] - 4s 31ms/step - loss: 0.0519\n",
            "Epoch 33/50\n",
            "120/120 [==============================] - 4s 31ms/step - loss: 0.0514\n",
            "Epoch 34/50\n",
            "120/120 [==============================] - 4s 31ms/step - loss: 0.0504\n",
            "Epoch 35/50\n",
            "120/120 [==============================] - 4s 31ms/step - loss: 0.0500\n",
            "Epoch 36/50\n",
            "120/120 [==============================] - 4s 31ms/step - loss: 0.0492\n",
            "Epoch 37/50\n",
            "120/120 [==============================] - 4s 31ms/step - loss: 0.0486\n",
            "Epoch 38/50\n",
            "120/120 [==============================] - 4s 31ms/step - loss: 0.0486\n",
            "Epoch 39/50\n",
            "120/120 [==============================] - 4s 31ms/step - loss: 0.0491\n",
            "Epoch 40/50\n",
            "120/120 [==============================] - 4s 31ms/step - loss: 0.0513\n",
            "Epoch 41/50\n",
            "120/120 [==============================] - 4s 31ms/step - loss: 0.0506\n",
            "Epoch 42/50\n",
            "120/120 [==============================] - 4s 31ms/step - loss: 0.0504\n",
            "Epoch 43/50\n",
            "120/120 [==============================] - 4s 31ms/step - loss: 0.0489\n",
            "Epoch 44/50\n",
            "120/120 [==============================] - 4s 31ms/step - loss: 0.0514\n",
            "Epoch 45/50\n",
            "120/120 [==============================] - 4s 31ms/step - loss: 0.0500\n",
            "Epoch 46/50\n",
            "120/120 [==============================] - 4s 31ms/step - loss: 0.0485\n",
            "Epoch 47/50\n",
            "120/120 [==============================] - 4s 31ms/step - loss: 0.0483\n",
            "Epoch 48/50\n",
            "120/120 [==============================] - 4s 31ms/step - loss: 0.0484\n",
            "Epoch 49/50\n",
            "120/120 [==============================] - 4s 31ms/step - loss: 0.0511\n",
            "Epoch 50/50\n",
            "120/120 [==============================] - 4s 31ms/step - loss: 0.0498\n"
          ]
        }
      ]
    },
    {
      "cell_type": "code",
      "source": [
        "model_p5.evaluate(np.stack(validating_data_X),np.stack(validation_data_ibm),verbose=True)"
      ],
      "metadata": {
        "id": "4zHkeNu8t6Gu",
        "colab": {
          "base_uri": "https://localhost:8080/"
        },
        "outputId": "ad736dd6-0669-44f5-f1bb-8b64d9a6affb"
      },
      "execution_count": 12,
      "outputs": [
        {
          "output_type": "stream",
          "name": "stdout",
          "text": [
            "38/38 [==============================] - 2s 25ms/step - loss: 0.0585\n"
          ]
        },
        {
          "output_type": "execute_result",
          "data": {
            "text/plain": [
              "0.05852806195616722"
            ]
          },
          "metadata": {},
          "execution_count": 12
        }
      ]
    },
    {
      "cell_type": "code",
      "source": [
        "M = model_p5.predict(np.stack(validating_data_X))"
      ],
      "metadata": {
        "id": "2j63kjIOt5-8",
        "colab": {
          "base_uri": "https://localhost:8080/"
        },
        "outputId": "3a617206-b73c-47af-ec47-6c5b46a13674"
      },
      "execution_count": 13,
      "outputs": [
        {
          "output_type": "stream",
          "name": "stdout",
          "text": [
            "38/38 [==============================] - 1s 22ms/step\n"
          ]
        }
      ]
    },
    {
      "cell_type": "code",
      "source": [
        "reconstruction = np.multiply(M,np.stack(validating_data_X))"
      ],
      "metadata": {
        "id": "QP8rtQNrkF82"
      },
      "execution_count": 14,
      "outputs": []
    },
    {
      "cell_type": "code",
      "source": [
        "snr = []\n",
        "for i in range(1200):\n",
        "    tmp_snr =  10 * np.log10(np.sum(validating_data_S[i]**2) / np.sum((validating_data_S[i]-reconstruction[i])**2))\n",
        "    snr.append(tmp_snr)"
      ],
      "metadata": {
        "id": "1kJ6Yj38kG0U"
      },
      "execution_count": 15,
      "outputs": []
    },
    {
      "cell_type": "code",
      "source": [
        "max(snr)"
      ],
      "metadata": {
        "colab": {
          "base_uri": "https://localhost:8080/"
        },
        "id": "6HfHKKqMnvm1",
        "outputId": "2a69ea90-d63b-498e-e2fa-5f36b855aa0d"
      },
      "execution_count": 16,
      "outputs": [
        {
          "output_type": "execute_result",
          "data": {
            "text/plain": [
              "30.763073735631323"
            ]
          },
          "metadata": {},
          "execution_count": 16
        }
      ]
    },
    {
      "cell_type": "code",
      "source": [
        "min(snr)"
      ],
      "metadata": {
        "colab": {
          "base_uri": "https://localhost:8080/"
        },
        "id": "LfPvCKsEnxon",
        "outputId": "8c187dce-9b47-41aa-9ec6-820fb6b29d87"
      },
      "execution_count": 17,
      "outputs": [
        {
          "output_type": "execute_result",
          "data": {
            "text/plain": [
              "5.120294384421174"
            ]
          },
          "metadata": {},
          "execution_count": 17
        }
      ]
    },
    {
      "cell_type": "code",
      "source": [
        "np.round(np.mean(snr, axis=0), 2)"
      ],
      "metadata": {
        "id": "rPVHJ77rkGub",
        "colab": {
          "base_uri": "https://localhost:8080/"
        },
        "outputId": "bbf037d8-0809-4b21-9e51-66eefe044a98"
      },
      "execution_count": 18,
      "outputs": [
        {
          "output_type": "execute_result",
          "data": {
            "text/plain": [
              "12.61"
            ]
          },
          "metadata": {},
          "execution_count": 18
        }
      ]
    },
    {
      "cell_type": "code",
      "source": [
        "M = model_p5.predict(np.stack(testing_data_X),batch_size=10)\n",
        "reconstruction_test = np.multiply(M,np.stack(testing_data_X))\n",
        "import soundfile as sf\n",
        "loco = os.listdir(testing_data_location)\n",
        "loco.sort()\n",
        "loco_f = [\"/content/timit-homework/te/\" + element for element in loco]\n",
        "for i in range(len(loco_f)):\n",
        "    s,sr= librosa.load(loco_f[i], sr=None)\n",
        "    test_reconstruction = librosa.istft(reconstruction_test[i].T, hop_length=512)[:len(s)]\n",
        "    sf.write('/content/drive/MyDrive/dlsw3/reconstructed_sound/'+loco_f[i].rsplit('/', 1)[-1]+\"_reconstructed.wav\", test_reconstruction, sr)"
      ],
      "metadata": {
        "id": "Q_2VBf_IoTTE",
        "colab": {
          "base_uri": "https://localhost:8080/"
        },
        "outputId": "2b263af4-4594-477c-e5c3-bb0027e0b916"
      },
      "execution_count": 19,
      "outputs": [
        {
          "output_type": "stream",
          "name": "stdout",
          "text": [
            "40/40 [==============================] - 1s 13ms/step\n"
          ]
        }
      ]
    },
    {
      "cell_type": "code",
      "source": [],
      "metadata": {
        "id": "_M6CPf7VoTPz"
      },
      "execution_count": null,
      "outputs": []
    },
    {
      "cell_type": "code",
      "source": [],
      "metadata": {
        "id": "1Dxb9lJBoTNF"
      },
      "execution_count": null,
      "outputs": []
    },
    {
      "cell_type": "code",
      "source": [],
      "metadata": {
        "id": "5Fa3RxRPoTKD"
      },
      "execution_count": null,
      "outputs": []
    },
    {
      "cell_type": "code",
      "source": [],
      "metadata": {
        "id": "3d0fakI6oTG7"
      },
      "execution_count": null,
      "outputs": []
    }
  ]
}